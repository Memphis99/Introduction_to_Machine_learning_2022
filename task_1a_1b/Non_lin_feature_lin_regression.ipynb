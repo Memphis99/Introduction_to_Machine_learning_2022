{
 "cells": [
  {
   "cell_type": "code",
   "execution_count": 1,
   "metadata": {
    "collapsed": true
   },
   "outputs": [],
   "source": [
    "import numpy as np\n",
    "import pandas as pd\n",
    "from sklearn.linear_model import LinearRegression"
   ]
  },
  {
   "cell_type": "code",
   "execution_count": 2,
   "outputs": [],
   "source": [
    "train_data = pd.read_csv('train.csv')\n",
    "y = train_data['y'].to_numpy()\n",
    "X = train_data.iloc[:, 2:].to_numpy()"
   ],
   "metadata": {
    "collapsed": false,
    "pycharm": {
     "name": "#%%\n"
    }
   }
  },
  {
   "cell_type": "code",
   "execution_count": 3,
   "outputs": [
    {
     "name": "stdout",
     "output_type": "stream",
     "text": [
      "[[4.000e-04 2.500e-03 8.100e-03 1.849e-01 6.400e-03]\n",
      " [1.690e-02 1.210e-02 6.400e-03 8.410e-02 9.000e-04]\n",
      " [6.400e-03 3.600e-03 4.900e-03 1.681e-01 9.000e-04]\n",
      " ...\n",
      " [7.290e-02 4.840e-02 1.000e-04 1.024e-01 2.500e-03]\n",
      " [3.610e-02 1.210e-02 2.500e-03 7.290e-02 1.600e-03]\n",
      " [8.100e-03 8.100e-03 3.600e-03 1.681e-01 3.600e-03]]\n"
     ]
    }
   ],
   "source": [
    "X_6_10 = np.square(X)\n",
    "print(X_6_10)\n",
    "X_11_15 = np.exp(X)\n",
    "X_16_20 = np.cos(X)\n",
    "X_21 = np.ones((np.shape(X)[0],1))\n",
    "Features = np.hstack((X, X_6_10, X_11_15, X_16_20, X_21))"
   ],
   "metadata": {
    "collapsed": false,
    "pycharm": {
     "name": "#%%\n"
    }
   }
  },
  {
   "cell_type": "code",
   "execution_count": 4,
   "outputs": [],
   "source": [
    "reg = LinearRegression(fit_intercept=False).fit(Features, y)\n",
    "np.savetxt(\"submission.csv\", reg.coef_, delimiter=\" \")"
   ],
   "metadata": {
    "collapsed": false,
    "pycharm": {
     "name": "#%%\n"
    }
   }
  },
  {
   "cell_type": "markdown",
   "source": [
    "The code is fundamentally divided in 4 parts. I've used a notebook for the ease of visualization of the output of each section.\n",
    "\n",
    "First part are the import, I used sklearn linear regression to perform indeed the regression.\n",
    " For the second part I used pandas to import the .csv train file from the same folder and there split train and data in to separate numpy arrays.\n",
    "\n",
    "Third section we used the element wise NumPy Mathematical functions to transform the linear input data in non linear features, we add as requested a row of ones and then hstack to put aside the column vector made by non linear features.\n",
    "\n",
    "Finally we perform regression with the whole training dataset, using fit_intercept = false since we have a bias and we do not want to fit the observations around zero. Finally we export the weights on the submission file."
   ],
   "metadata": {
    "collapsed": false
   }
  },
  {
   "cell_type": "markdown",
   "source": [],
   "metadata": {
    "collapsed": false,
    "pycharm": {
     "name": "#%% md\n"
    }
   }
  }
 ],
 "metadata": {
  "kernelspec": {
   "display_name": "Python 3",
   "language": "python",
   "name": "python3"
  },
  "language_info": {
   "codemirror_mode": {
    "name": "ipython",
    "version": 2
   },
   "file_extension": ".py",
   "mimetype": "text/x-python",
   "name": "python",
   "nbconvert_exporter": "python",
   "pygments_lexer": "ipython2",
   "version": "2.7.6"
  }
 },
 "nbformat": 4,
 "nbformat_minor": 0
}