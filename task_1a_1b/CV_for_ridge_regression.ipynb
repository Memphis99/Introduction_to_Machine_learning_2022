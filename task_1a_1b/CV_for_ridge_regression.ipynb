{
 "cells": [
  {
   "cell_type": "markdown",
   "metadata": {
    "collapsed": true,
    "pycharm": {
     "name": "#%% md\n"
    }
   },
   "source": []
  },
  {
   "cell_type": "code",
   "execution_count": 38,
   "outputs": [],
   "source": [
    "import numpy as np\n",
    "import pandas as pd\n",
    "from sklearn.metrics import mean_squared_error\n",
    "from sklearn import linear_model\n",
    "from sklearn.model_selection import KFold"
   ],
   "metadata": {
    "collapsed": false,
    "pycharm": {
     "name": "#%%\n"
    }
   }
  },
  {
   "cell_type": "code",
   "execution_count": 39,
   "outputs": [],
   "source": [
    "train_data = pd.read_csv('train.csv')\n",
    "y = train_data['y'].to_numpy()\n",
    "X = train_data.iloc[:, 1:].to_numpy()"
   ],
   "metadata": {
    "collapsed": false,
    "pycharm": {
     "name": "#%%\n"
    }
   }
  },
  {
   "cell_type": "code",
   "execution_count": 40,
   "outputs": [],
   "source": [
    "lambda_vec = np.array([0.1,1,10,100,200]) #### lambda vector\n",
    "number_folds = 10 #### Cross-validation folds\n",
    "rand_seed = 10"
   ],
   "metadata": {
    "collapsed": false,
    "pycharm": {
     "name": "#%%\n"
    }
   }
  },
  {
   "cell_type": "code",
   "execution_count": 41,
   "outputs": [
    {
     "name": "stdout",
     "output_type": "stream",
     "text": [
      "[5.32224088 5.32304588 5.24667796 5.36259547 5.45166629]\n"
     ]
    }
   ],
   "source": [
    "# calculate weights with the closed form for ridge regression\n",
    "\n",
    "# 1. iteratively split the date in K = 10 folds\n",
    "# K-fold cross-validation through sklearn\n",
    "\n",
    "kfolds_class = KFold(number_folds, shuffle=True, random_state=rand_seed)\n",
    "#kfolds_class = KFold(number_folds)\n",
    "RMSE_4_lambda = []\n",
    "# 2. do ridge regression with iteratively different lambdas\n",
    "for lbd in lambda_vec :\n",
    "    RMSE_list = []\n",
    "    regression_class = linear_model.Ridge(alpha=lbd,solver='svd',random_state=rand_seed)\n",
    "    #regression_class = linear_model.Ridge(alpha=lbd)\n",
    "    for train_index, test_index in kfolds_class.split(X):\n",
    "\n",
    "        X_train, X_validation = X[train_index], X[test_index]\n",
    "        y_train, y_validation = y[train_index], y[test_index]\n",
    "\n",
    "        regression_class.fit(X_train,y_train)\n",
    "        pred_label = regression_class.predict(X_validation)\n",
    "\n",
    "        RMSE_list.append(mean_squared_error(pred_label, y_validation)**0.5)\n",
    "\n",
    "    RMSE_list = np.array(RMSE_list)\n",
    "    RMSE_4_lambda.append(np.average(RMSE_list))\n",
    "\n",
    "RMSE_4_lambda = np.array(RMSE_4_lambda)\n",
    "print(RMSE_4_lambda)"
   ],
   "metadata": {
    "collapsed": false,
    "pycharm": {
     "name": "#%%\n"
    }
   }
  },
  {
   "cell_type": "code",
   "execution_count": 42,
   "outputs": [],
   "source": [
    "# Create Pandas Series\n",
    "rmse_series = pd.Series(RMSE_4_lambda)\n",
    "# Output to file\n",
    "rmse_series.to_csv('Submission.csv',header=False,index=False)"
   ],
   "metadata": {
    "collapsed": false,
    "pycharm": {
     "name": "#%%\n"
    }
   }
  },
  {
   "cell_type": "markdown",
   "source": [
    "report: the code is fundamentally divided in five parts. I've used a notebook for the ease of visualization of the output of each section.\n",
    "First part are the import, I used sklearn, a standard library for ML with the exact libraries to perform what was requested by the task.\n",
    " For the second part I used pandas to import the .csv train file from the same folder and and split tables and data in to separate numpy arrays. I used .Iloc() to skip the first column that is the label. Third section is simply used to define environmental variables, as requested by the task. I have set a random_seed for reproducibility purposes.Fourth section: I first used the sklearn class Fold the idea is to use the attribute split of KFold class, to generate indices to split data into training and validation set. Shuffle allows to form a fold with non consecutive elements.  RMSE_4_lambda is used to store the average of the RMSE for each lambda. Then we iterate for each lambda. regression_class is the object used to store the model to perform ridge regression, there we used the current lambda , singular Value decomposition as solver (is it has given the lowest error so far). X_train and validation, Y_train and validation are vectors and the are feeded to the .fit class that calculates the weights, than we do the forward pass with validation set and calculate the RMSE for the fold. For each lambda we average the RMSE for OK-fold then we write our results trough the fifth section on the submission"
   ],
   "metadata": {
    "collapsed": false
   }
  },
  {
   "cell_type": "markdown",
   "source": [],
   "metadata": {
    "collapsed": false
   }
  },
  {
   "cell_type": "code",
   "execution_count": 42,
   "outputs": [],
   "source": [],
   "metadata": {
    "collapsed": false,
    "pycharm": {
     "name": "#%%\n"
    }
   }
  }
 ],
 "metadata": {
  "kernelspec": {
   "display_name": "Python 3",
   "language": "python",
   "name": "python3"
  },
  "language_info": {
   "codemirror_mode": {
    "name": "ipython",
    "version": 2
   },
   "file_extension": ".py",
   "mimetype": "text/x-python",
   "name": "python",
   "nbconvert_exporter": "python",
   "pygments_lexer": "ipython2",
   "version": "2.7.6"
  }
 },
 "nbformat": 4,
 "nbformat_minor": 0
}